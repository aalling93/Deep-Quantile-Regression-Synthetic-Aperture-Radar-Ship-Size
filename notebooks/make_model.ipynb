{
 "cells": [
  {
   "cell_type": "code",
   "execution_count": 1,
   "metadata": {},
   "outputs": [],
   "source": [
    "import numpy as np\n",
    "import tensorflow as tf \n",
    "import sys\n",
    "import os\n",
    "import glob\n",
    "import dotenv\n",
    "import pandas as pd\n",
    "from dotenv import load_dotenv, find_dotenv\n",
    "sys.path.append(os.getenv('src_dir'))\n",
    "processed_data_dir = os.getenv('processed_data_dir')"
   ]
  },
  {
   "cell_type": "code",
   "execution_count": 2,
   "metadata": {},
   "outputs": [],
   "source": [
    "\n",
    "from src.models.model_arcitectures._model_quantile_simp import quantile_model\n",
    "from src.models.model_arcitectures._model_quantule_v2 import quantile_model as qmodel_v2\n",
    "from src.models.model_arcitectures._fcn_quantile import fcn_quantile\n",
    "from src.models.model import Model\n",
    "from src.models._util import seed_everything\n",
    "\n",
    "seed_everything(42)"
   ]
  },
  {
   "cell_type": "code",
   "execution_count": 3,
   "metadata": {},
   "outputs": [],
   "source": [
    "dataset = np.load(glob.glob(processed_data_dir+'/*')[1],allow_pickle=True)"
   ]
  },
  {
   "cell_type": "code",
   "execution_count": 4,
   "metadata": {},
   "outputs": [],
   "source": [
    "dataframe = pd.DataFrame(dataset['dataframe'], columns = ['image_id','Sar_Incidence','sar_type','mmsi','cog','sog','shape'])"
   ]
  },
  {
   "cell_type": "code",
   "execution_count": 5,
   "metadata": {},
   "outputs": [],
   "source": [
    "#X_0 = dataset[\"imgs_training_clipped_scaled\"]\n",
    "#X_90 = np.rot90(dataset[\"imgs_training_clipped_scaled\"],k=1,axes=(1,2))\n",
    "#X_180 = np.rot90(dataset[\"imgs_training_clipped_scaled\"],k=2,axes=(1,2))\n",
    "#X_270 = np.rot90(dataset[\"imgs_training_clipped_scaled\"],k=3,axes=(1,2))\n",
    "\n",
    "#X = np.concatenate([X_0, X_90, X_180,X_270])\n",
    "#X_targets = np.concatenate([dataset[\"targets_training_scaled\"], dataset[\"targets_training_scaled\"], dataset[\"targets_training_scaled\"],dataset[\"targets_training_scaled\"]])\n",
    "#X_metadata = np.concatenate([dataset[\"metadata_training_scaled\"], dataset[\"metadata_training_scaled\"], dataset[\"metadata_training_scaled\"],dataset[\"metadata_training_scaled\"]])\n"
   ]
  },
  {
   "cell_type": "code",
   "execution_count": 6,
   "metadata": {},
   "outputs": [
    {
     "name": "stderr",
     "output_type": "stream",
     "text": [
      "/var/folders/82/fwjm77x535gfxv2dlbyp5l400000gp/T/ipykernel_51596/96545764.py:1: VisibleDeprecationWarning: Creating an ndarray from ragged nested sequences (which is a list-or-tuple of lists-or-tuples-or ndarrays with different lengths or shapes) is deprecated. If you meant to do this, you must specify 'dtype=object' when creating the ndarray.\n",
      "  X = np.array([im.astype(float) for im in dataset[\"imgs_training_clipped_scaled\"]])\n"
     ]
    }
   ],
   "source": [
    "X = np.array([im.astype(float) for im in dataset[\"imgs_training_clipped_scaled\"]])\n",
    "Meta = np.array([met.astype(float) for met in dataset[\"metadata_training_scaled\"]])\n",
    "y = np.array([met.astype(float) for met in dataset[\"targets_training_scaled\"]])"
   ]
  },
  {
   "cell_type": "code",
   "execution_count": 9,
   "metadata": {},
   "outputs": [],
   "source": [
    "X = tf.ragged.constant(X).to_tensor()\n",
    "Meta = tf.ragged.constant(Meta).to_tensor()\n",
    "#y = [tf.ragged.constant(y[:,0]).to_tensor(),tf.ragged.constant(y[:,1]).to_tensor(),tf.ragged.constant(y[:,2]).to_tensor()]"
   ]
  },
  {
   "cell_type": "code",
   "execution_count": 10,
   "metadata": {},
   "outputs": [
    {
     "name": "stdout",
     "output_type": "stream",
     "text": [
      "1 Physical GPUs, 1 Logical GPUs\n",
      "quantile\n",
      "(None, None, None, 2)\n"
     ]
    }
   ],
   "source": [
    "with Model() as M:\n",
    "    M.data_load(X,Meta,y)\n",
    "    M.model_load(which_model='fcn_quantile')\n",
    "    "
   ]
  },
  {
   "cell_type": "code",
   "execution_count": 7,
   "metadata": {},
   "outputs": [],
   "source": [
    "#M.train_images.tolist()"
   ]
  },
  {
   "cell_type": "code",
   "execution_count": 11,
   "metadata": {},
   "outputs": [
    {
     "data": {
      "text/plain": [
       "(1552, 3)"
      ]
     },
     "execution_count": 11,
     "metadata": {},
     "output_type": "execute_result"
    }
   ],
   "source": [
    "M.train_target.shape"
   ]
  },
  {
   "cell_type": "code",
   "execution_count": 11,
   "metadata": {},
   "outputs": [
    {
     "name": "stderr",
     "output_type": "stream",
     "text": [
      "2022-09-29 12:04:40.408775: W tensorflow/core/platform/profile_utils/cpu_utils.cc:128] Failed to get CPU frequency: 0 Hz\n",
      "2022-09-29 12:04:41.404768: I tensorflow/core/grappler/optimizers/custom_graph_optimizer_registry.cc:114] Plugin optimizer for device_type GPU is enabled.\n"
     ]
    }
   ],
   "source": [
    "M.model_train(epochs=10,verbose=0)"
   ]
  },
  {
   "cell_type": "code",
   "execution_count": null,
   "metadata": {},
   "outputs": [],
   "source": []
  }
 ],
 "metadata": {
  "kernelspec": {
   "display_name": "Python 3.9.13 ('env_tfp')",
   "language": "python",
   "name": "python3"
  },
  "language_info": {
   "codemirror_mode": {
    "name": "ipython",
    "version": 3
   },
   "file_extension": ".py",
   "mimetype": "text/x-python",
   "name": "python",
   "nbconvert_exporter": "python",
   "pygments_lexer": "ipython3",
   "version": "3.9.13"
  },
  "orig_nbformat": 4,
  "vscode": {
   "interpreter": {
    "hash": "a152121fa935c15e0d793524af0d1bd57abdc24e1c3f82646723090be2d81b53"
   }
  }
 },
 "nbformat": 4,
 "nbformat_minor": 2
}
