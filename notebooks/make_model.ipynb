{
 "cells": [
  {
   "cell_type": "code",
   "execution_count": 1,
   "metadata": {},
   "outputs": [],
   "source": [
    "import numpy as np\n",
    "import tensorflow as tf \n",
    "import sys\n",
    "import os\n",
    "import glob\n",
    "import dotenv\n",
    "import pandas as pd\n",
    "from dotenv import load_dotenv, find_dotenv\n",
    "sys.path.append(os.getenv('src_dir'))\n",
    "processed_data_dir = os.getenv('processed_data_dir')"
   ]
  },
  {
   "cell_type": "code",
   "execution_count": 2,
   "metadata": {},
   "outputs": [],
   "source": [
    "\n",
    "from src.models.model_arcitectures._model_quantile_simp import quantile_model\n",
    "from src.models.model_arcitectures._model_quantule_v2 import quantile_model as qmodel_v2\n",
    "from src.models.model_arcitectures._fcn_quantile import fcn_quantile\n",
    "from src.models.model import Model\n",
    "from src.models._util import seed_everything\n",
    "\n",
    "seed_everything(42)"
   ]
  },
  {
   "cell_type": "code",
   "execution_count": 3,
   "metadata": {},
   "outputs": [],
   "source": [
    "dataset = np.load(glob.glob(processed_data_dir+'/*')[1],allow_pickle=True)"
   ]
  },
  {
   "cell_type": "code",
   "execution_count": 4,
   "metadata": {},
   "outputs": [],
   "source": [
    "dataframe = pd.DataFrame(dataset['dataframe'], columns = ['image_id','Sar_Incidence','sar_type','mmsi','cog','sog','shape'])"
   ]
  },
  {
   "cell_type": "code",
   "execution_count": 5,
   "metadata": {},
   "outputs": [],
   "source": [
    "#X_0 = dataset[\"imgs_training_clipped_scaled\"]\n",
    "#X_90 = np.rot90(dataset[\"imgs_training_clipped_scaled\"],k=1,axes=(1,2))\n",
    "#X_180 = np.rot90(dataset[\"imgs_training_clipped_scaled\"],k=2,axes=(1,2))\n",
    "#X_270 = np.rot90(dataset[\"imgs_training_clipped_scaled\"],k=3,axes=(1,2))\n",
    "\n",
    "#X = np.concatenate([X_0, X_90, X_180,X_270])\n",
    "#X_targets = np.concatenate([dataset[\"targets_training_scaled\"], dataset[\"targets_training_scaled\"], dataset[\"targets_training_scaled\"],dataset[\"targets_training_scaled\"]])\n",
    "#X_metadata = np.concatenate([dataset[\"metadata_training_scaled\"], dataset[\"metadata_training_scaled\"], dataset[\"metadata_training_scaled\"],dataset[\"metadata_training_scaled\"]])\n"
   ]
  },
  {
   "cell_type": "code",
   "execution_count": 13,
   "metadata": {},
   "outputs": [
    {
     "name": "stderr",
     "output_type": "stream",
     "text": [
      "/var/folders/82/fwjm77x535gfxv2dlbyp5l400000gp/T/ipykernel_95832/96545764.py:1: VisibleDeprecationWarning: Creating an ndarray from ragged nested sequences (which is a list-or-tuple of lists-or-tuples-or ndarrays with different lengths or shapes) is deprecated. If you meant to do this, you must specify 'dtype=object' when creating the ndarray.\n",
      "  X = np.array([im.astype(float) for im in dataset[\"imgs_training_clipped_scaled\"]])\n"
     ]
    }
   ],
   "source": [
    "X = np.array([im.astype(float) for im in dataset[\"imgs_training_clipped_scaled\"]])\n",
    "Meta = np.array([met.astype(float) for met in dataset[\"metadata_training_scaled\"]])\n",
    "y = np.array([met.astype(float) for met in dataset[\"targets_training_scaled\"]])"
   ]
  },
  {
   "cell_type": "code",
   "execution_count": 14,
   "metadata": {},
   "outputs": [
    {
     "ename": "AttributeError",
     "evalue": "'tensorflow.python.framework.ops.EagerTensor' object has no attribute 'to_tensor'",
     "output_type": "error",
     "traceback": [
      "\u001b[0;31m---------------------------------------------------------------------------\u001b[0m",
      "\u001b[0;31mAttributeError\u001b[0m                            Traceback (most recent call last)",
      "Cell \u001b[0;32mIn [14], line 3\u001b[0m\n\u001b[1;32m      1\u001b[0m X \u001b[38;5;241m=\u001b[39m tf\u001b[38;5;241m.\u001b[39mragged\u001b[38;5;241m.\u001b[39mconstant(X)\u001b[38;5;241m.\u001b[39mto_tensor()\n\u001b[1;32m      2\u001b[0m Meta \u001b[38;5;241m=\u001b[39m tf\u001b[38;5;241m.\u001b[39mragged\u001b[38;5;241m.\u001b[39mconstant(Meta)\u001b[38;5;241m.\u001b[39mto_tensor()\n\u001b[0;32m----> 3\u001b[0m y \u001b[38;5;241m=\u001b[39m [\u001b[43mtf\u001b[49m\u001b[38;5;241;43m.\u001b[39;49m\u001b[43mragged\u001b[49m\u001b[38;5;241;43m.\u001b[39;49m\u001b[43mconstant\u001b[49m\u001b[43m(\u001b[49m\u001b[43my\u001b[49m\u001b[43m[\u001b[49m\u001b[43m:\u001b[49m\u001b[43m,\u001b[49m\u001b[38;5;241;43m0\u001b[39;49m\u001b[43m]\u001b[49m\u001b[43m)\u001b[49m\u001b[38;5;241;43m.\u001b[39;49m\u001b[43mto_tensor\u001b[49m(),tf\u001b[38;5;241m.\u001b[39mragged\u001b[38;5;241m.\u001b[39mconstant(y[:,\u001b[38;5;241m1\u001b[39m])\u001b[38;5;241m.\u001b[39mto_tensor(),tf\u001b[38;5;241m.\u001b[39mragged\u001b[38;5;241m.\u001b[39mconstant(y[:,\u001b[38;5;241m2\u001b[39m])\u001b[38;5;241m.\u001b[39mto_tensor()]\n",
      "File \u001b[0;32m/opt/homebrew/Caskroom/miniforge/base/envs/env_tfp/lib/python3.9/site-packages/tensorflow/python/framework/ops.py:446\u001b[0m, in \u001b[0;36mTensor.__getattr__\u001b[0;34m(self, name)\u001b[0m\n\u001b[1;32m    437\u001b[0m \u001b[39mif\u001b[39;00m name \u001b[39min\u001b[39;00m {\u001b[39m\"\u001b[39m\u001b[39mT\u001b[39m\u001b[39m\"\u001b[39m, \u001b[39m\"\u001b[39m\u001b[39mastype\u001b[39m\u001b[39m\"\u001b[39m, \u001b[39m\"\u001b[39m\u001b[39mravel\u001b[39m\u001b[39m\"\u001b[39m, \u001b[39m\"\u001b[39m\u001b[39mtranspose\u001b[39m\u001b[39m\"\u001b[39m, \u001b[39m\"\u001b[39m\u001b[39mreshape\u001b[39m\u001b[39m\"\u001b[39m, \u001b[39m\"\u001b[39m\u001b[39mclip\u001b[39m\u001b[39m\"\u001b[39m, \u001b[39m\"\u001b[39m\u001b[39msize\u001b[39m\u001b[39m\"\u001b[39m,\n\u001b[1;32m    438\u001b[0m             \u001b[39m\"\u001b[39m\u001b[39mtolist\u001b[39m\u001b[39m\"\u001b[39m, \u001b[39m\"\u001b[39m\u001b[39mdata\u001b[39m\u001b[39m\"\u001b[39m}:\n\u001b[1;32m    439\u001b[0m   \u001b[39m# TODO(wangpeng): Export the enable_numpy_behavior knob\u001b[39;00m\n\u001b[1;32m    440\u001b[0m   \u001b[39mraise\u001b[39;00m \u001b[39mAttributeError\u001b[39;00m(\n\u001b[1;32m    441\u001b[0m       \u001b[39mf\u001b[39m\u001b[39m\"\u001b[39m\u001b[39m{\u001b[39;00m\u001b[39mtype\u001b[39m(\u001b[39mself\u001b[39m)\u001b[39m.\u001b[39m\u001b[39m__name__\u001b[39m\u001b[39m}\u001b[39;00m\u001b[39m object has no attribute \u001b[39m\u001b[39m'\u001b[39m\u001b[39m{\u001b[39;00mname\u001b[39m}\u001b[39;00m\u001b[39m'\u001b[39m\u001b[39m. \u001b[39m\u001b[39m\"\u001b[39m \u001b[39m+\u001b[39m \u001b[39m\"\"\"\u001b[39m\n\u001b[1;32m    442\u001b[0m \u001b[39m    If you are looking for numpy-related methods, please run the following:\u001b[39m\n\u001b[1;32m    443\u001b[0m \u001b[39m    from tensorflow.python.ops.numpy_ops import np_config\u001b[39m\n\u001b[1;32m    444\u001b[0m \u001b[39m    np_config.enable_numpy_behavior()\u001b[39m\n\u001b[1;32m    445\u001b[0m \u001b[39m  \u001b[39m\u001b[39m\"\"\"\u001b[39m)\n\u001b[0;32m--> 446\u001b[0m \u001b[39mself\u001b[39;49m\u001b[39m.\u001b[39;49m\u001b[39m__getattribute__\u001b[39;49m(name)\n",
      "\u001b[0;31mAttributeError\u001b[0m: 'tensorflow.python.framework.ops.EagerTensor' object has no attribute 'to_tensor'"
     ]
    }
   ],
   "source": [
    "X = tf.ragged.constant(X).to_tensor()\n",
    "Meta = tf.ragged.constant(Meta).to_tensor()\n",
    "y = [tf.ragged.constant(y[:,0]).to_tensor(),tf.ragged.constant(y[:,1]).to_tensor(),tf.ragged.constant(y[:,2]).to_tensor()]"
   ]
  },
  {
   "cell_type": "code",
   "execution_count": null,
   "metadata": {},
   "outputs": [
    {
     "name": "stdout",
     "output_type": "stream",
     "text": [
      "Virtual devices cannot be modified after being initialized\n",
      "quantile\n",
      "(None, None, None, 2)\n"
     ]
    }
   ],
   "source": [
    "with Model() as M:\n",
    "    M.data_load(X,Meta,y)\n",
    "    M.model_load(which_model='fcn_quantile')\n",
    "    "
   ]
  },
  {
   "cell_type": "code",
   "execution_count": null,
   "metadata": {},
   "outputs": [
    {
     "name": "stdout",
     "output_type": "stream",
     "text": [
      "Model: \"quantile_v3\"\n",
      "__________________________________________________________________________________________________\n",
      " Layer (type)                   Output Shape         Param #     Connected to                     \n",
      "==================================================================================================\n",
      " inputs_img (InputLayer)        [(None, None, None,  0           []                               \n",
      "                                 2)]                                                              \n",
      "                                                                                                  \n",
      " conv2d (Conv2D)                (None, None, None,   13056       ['inputs_img[0][0]']             \n",
      "                                256)                                                              \n",
      "                                                                                                  \n",
      " tf.nn.elu (TFOpLambda)         (None, None, None,   0           ['conv2d[0][0]']                 \n",
      "                                256)                                                              \n",
      "                                                                                                  \n",
      " tf.math.greater (TFOpLambda)   (None, None, None,   0           ['conv2d[0][0]']                 \n",
      "                                256)                                                              \n",
      "                                                                                                  \n",
      " tf.math.multiply (TFOpLambda)  (None, None, None,   0           ['tf.nn.elu[0][0]']              \n",
      "                                256)                                                              \n",
      "                                                                                                  \n",
      " tf.where (TFOpLambda)          (None, None, None,   0           ['tf.math.greater[0][0]',        \n",
      "                                256)                              'tf.nn.elu[0][0]',              \n",
      "                                                                  'tf.math.multiply[0][0]']       \n",
      "                                                                                                  \n",
      " dropout (Dropout)              (None, None, None,   0           ['tf.where[0][0]']               \n",
      "                                256)                                                              \n",
      "                                                                                                  \n",
      " batch_normalization (BatchNorm  (None, None, None,   1024       ['dropout[0][0]']                \n",
      " alization)                     256)                                                              \n",
      "                                                                                                  \n",
      " conv2d_1 (Conv2D)              (None, None, None,   295040      ['batch_normalization[0][0]']    \n",
      "                                128)                                                              \n",
      "                                                                                                  \n",
      " tf.nn.elu_1 (TFOpLambda)       (None, None, None,   0           ['conv2d_1[0][0]']               \n",
      "                                128)                                                              \n",
      "                                                                                                  \n",
      " tf.math.greater_1 (TFOpLambda)  (None, None, None,   0          ['conv2d_1[0][0]']               \n",
      "                                128)                                                              \n",
      "                                                                                                  \n",
      " tf.math.multiply_1 (TFOpLambda  (None, None, None,   0          ['tf.nn.elu_1[0][0]']            \n",
      " )                              128)                                                              \n",
      "                                                                                                  \n",
      " tf.where_1 (TFOpLambda)        (None, None, None,   0           ['tf.math.greater_1[0][0]',      \n",
      "                                128)                              'tf.nn.elu_1[0][0]',            \n",
      "                                                                  'tf.math.multiply_1[0][0]']     \n",
      "                                                                                                  \n",
      " dropout_1 (Dropout)            (None, None, None,   0           ['tf.where_1[0][0]']             \n",
      "                                128)                                                              \n",
      "                                                                                                  \n",
      " max_pooling2d (MaxPooling2D)   (None, None, None,   0           ['dropout_1[0][0]']              \n",
      "                                128)                                                              \n",
      "                                                                                                  \n",
      " batch_normalization_1 (BatchNo  (None, None, None,   512        ['max_pooling2d[0][0]']          \n",
      " rmalization)                   128)                                                              \n",
      "                                                                                                  \n",
      " conv2d_2 (Conv2D)              (None, None, None,   147584      ['batch_normalization_1[0][0]']  \n",
      "                                128)                                                              \n",
      "                                                                                                  \n",
      " tf.nn.elu_2 (TFOpLambda)       (None, None, None,   0           ['conv2d_2[0][0]']               \n",
      "                                128)                                                              \n",
      "                                                                                                  \n",
      " tf.math.greater_2 (TFOpLambda)  (None, None, None,   0          ['conv2d_2[0][0]']               \n",
      "                                128)                                                              \n",
      "                                                                                                  \n",
      " tf.math.multiply_2 (TFOpLambda  (None, None, None,   0          ['tf.nn.elu_2[0][0]']            \n",
      " )                              128)                                                              \n",
      "                                                                                                  \n",
      " tf.where_2 (TFOpLambda)        (None, None, None,   0           ['tf.math.greater_2[0][0]',      \n",
      "                                128)                              'tf.nn.elu_2[0][0]',            \n",
      "                                                                  'tf.math.multiply_2[0][0]']     \n",
      "                                                                                                  \n",
      " dropout_2 (Dropout)            (None, None, None,   0           ['tf.where_2[0][0]']             \n",
      "                                128)                                                              \n",
      "                                                                                                  \n",
      " max_pooling2d_1 (MaxPooling2D)  (None, None, None,   0          ['dropout_2[0][0]']              \n",
      "                                128)                                                              \n",
      "                                                                                                  \n",
      " batch_normalization_2 (BatchNo  (None, None, None,   512        ['max_pooling2d_1[0][0]']        \n",
      " rmalization)                   128)                                                              \n",
      "                                                                                                  \n",
      " global_max_pooling2d (GlobalMa  (None, 128)         0           ['batch_normalization_2[0][0]']  \n",
      " xPooling2D)                                                                                      \n",
      "                                                                                                  \n",
      " dense (Dense)                  (None, 25)           3225        ['global_max_pooling2d[0][0]']   \n",
      "                                                                                                  \n",
      " dense_1 (Dense)                (None, 25)           3225        ['global_max_pooling2d[0][0]']   \n",
      "                                                                                                  \n",
      " leaky_re_lu (LeakyReLU)        (None, 25)           0           ['dense[0][0]']                  \n",
      "                                                                                                  \n",
      " leaky_re_lu_1 (LeakyReLU)      (None, 25)           0           ['dense_1[0][0]']                \n",
      "                                                                                                  \n",
      " dropout_3 (Dropout)            (None, 25)           0           ['leaky_re_lu[0][0]']            \n",
      "                                                                                                  \n",
      " dropout_4 (Dropout)            (None, 25)           0           ['leaky_re_lu_1[0][0]']          \n",
      "                                                                                                  \n",
      " dense_3 (Dense)                (None, 5)            130         ['dropout_3[0][0]']              \n",
      "                                                                                                  \n",
      " dense_4 (Dense)                (None, 5)            130         ['dropout_4[0][0]']              \n",
      "                                                                                                  \n",
      " leaky_re_lu_3 (LeakyReLU)      (None, 5)            0           ['dense_3[0][0]']                \n",
      "                                                                                                  \n",
      " leaky_re_lu_4 (LeakyReLU)      (None, 5)            0           ['dense_4[0][0]']                \n",
      "                                                                                                  \n",
      " inputs_meta (InputLayer)       [(None, 2)]          0           []                               \n",
      "                                                                                                  \n",
      " length (Dense)                 (None, 5)            30          ['leaky_re_lu_3[0][0]']          \n",
      "                                                                                                  \n",
      " width (Dense)                  (None, 5)            30          ['leaky_re_lu_4[0][0]']          \n",
      "                                                                                                  \n",
      "==================================================================================================\n",
      "Total params: 464,498\n",
      "Trainable params: 463,474\n",
      "Non-trainable params: 1,024\n",
      "__________________________________________________________________________________________________\n"
     ]
    }
   ],
   "source": [
    "M.model.model.summary()"
   ]
  },
  {
   "cell_type": "code",
   "execution_count": null,
   "metadata": {},
   "outputs": [],
   "source": []
  },
  {
   "cell_type": "code",
   "execution_count": null,
   "metadata": {},
   "outputs": [
    {
     "ename": "TypeError",
     "evalue": "in user code:\n\n    File \"/opt/homebrew/Caskroom/miniforge/base/envs/env_tfp/lib/python3.9/site-packages/keras/engine/training.py\", line 1160, in train_function  *\n        return step_function(self, iterator)\n    File \"/opt/homebrew/Caskroom/miniforge/base/envs/env_tfp/lib/python3.9/site-packages/keras/engine/training.py\", line 1146, in step_function  **\n        outputs = model.distribute_strategy.run(run_step, args=(data,))\n    File \"/opt/homebrew/Caskroom/miniforge/base/envs/env_tfp/lib/python3.9/site-packages/keras/engine/training.py\", line 1135, in run_step  **\n        outputs = model.train_step(data)\n    File \"/opt/homebrew/Caskroom/miniforge/base/envs/env_tfp/lib/python3.9/site-packages/keras/engine/training.py\", line 993, in train_step\n        y_pred = self(x, training=True)\n    File \"/opt/homebrew/Caskroom/miniforge/base/envs/env_tfp/lib/python3.9/site-packages/keras/utils/traceback_utils.py\", line 70, in error_handler\n        raise e.with_traceback(filtered_tb) from None\n\n    TypeError: Exception encountered when calling layer \"conv2d\" \"                 f\"(type Conv2D).\n    \n    Failed to convert elements of tf.RaggedTensor(values=tf.RaggedTensor(values=tf.RaggedTensor(values=Tensor(\"quantile_v3/Cast:0\", shape=(None,), dtype=float32), row_splits=Tensor(\"RaggedFromVariant/RaggedTensorFromVariant:2\", shape=(None,), dtype=int64)), row_splits=Tensor(\"RaggedFromVariant/RaggedTensorFromVariant:1\", shape=(None,), dtype=int64)), row_splits=Tensor(\"RaggedFromVariant/RaggedTensorFromVariant:0\", shape=(None,), dtype=int64)) to Tensor. Consider casting elements to a supported type. See https://www.tensorflow.org/api_docs/python/tf/dtypes for supported TF dtypes.\n    \n    Call arguments received by layer \"conv2d\" \"                 f\"(type Conv2D):\n      • inputs=tf.RaggedTensor(values=tf.RaggedTensor(values=tf.RaggedTensor(values=Tensor(\"quantile_v3/Cast:0\", shape=(None,), dtype=float32), row_splits=Tensor(\"RaggedFromVariant/RaggedTensorFromVariant:2\", shape=(None,), dtype=int64)), row_splits=Tensor(\"RaggedFromVariant/RaggedTensorFromVariant:1\", shape=(None,), dtype=int64)), row_splits=Tensor(\"RaggedFromVariant/RaggedTensorFromVariant:0\", shape=(None,), dtype=int64))\n",
     "output_type": "error",
     "traceback": [
      "\u001b[0;31m---------------------------------------------------------------------------\u001b[0m",
      "\u001b[0;31mTypeError\u001b[0m                                 Traceback (most recent call last)",
      "Cell \u001b[0;32mIn [10], line 1\u001b[0m\n\u001b[0;32m----> 1\u001b[0m \u001b[43mM\u001b[49m\u001b[38;5;241;43m.\u001b[39;49m\u001b[43mmodel_train\u001b[49m\u001b[43m(\u001b[49m\u001b[43mepochs\u001b[49m\u001b[38;5;241;43m=\u001b[39;49m\u001b[38;5;241;43m10\u001b[39;49m\u001b[43m,\u001b[49m\u001b[43mverbose\u001b[49m\u001b[38;5;241;43m=\u001b[39;49m\u001b[38;5;241;43m0\u001b[39;49m\u001b[43m)\u001b[49m\n",
      "File \u001b[0;32m~/Documents/phd/coding/Deep Quantile Regression Synthetic Aperture Radar Ship Size/notebooks/../src/models/model.py:111\u001b[0m, in \u001b[0;36mModel.model_train\u001b[0;34m(self, epochs, verbose)\u001b[0m\n\u001b[1;32m    107\u001b[0m \u001b[39mself\u001b[39m\u001b[39m.\u001b[39mepochs \u001b[39m=\u001b[39m epochs\n\u001b[1;32m    110\u001b[0m \u001b[39mif\u001b[39;00m \u001b[39mself\u001b[39m\u001b[39m.\u001b[39mwhich_model\u001b[39m.\u001b[39mlower() \u001b[39m==\u001b[39m \u001b[39m\"\u001b[39m\u001b[39mfcn_quantile\u001b[39m\u001b[39m\"\u001b[39m:\n\u001b[0;32m--> 111\u001b[0m     training_history \u001b[39m=\u001b[39m \u001b[39mself\u001b[39;49m\u001b[39m.\u001b[39;49mmodel\u001b[39m.\u001b[39;49mmodel\u001b[39m.\u001b[39;49mfit(\n\u001b[1;32m    112\u001b[0m     [\u001b[39mself\u001b[39;49m\u001b[39m.\u001b[39;49mtrain_images, \u001b[39mself\u001b[39;49m\u001b[39m.\u001b[39;49mtrain_metadata[:, \u001b[39m-\u001b[39;49m\u001b[39m2\u001b[39;49m:]],\n\u001b[1;32m    113\u001b[0m     [\u001b[39mself\u001b[39;49m\u001b[39m.\u001b[39;49mtrain_target[\u001b[39m0\u001b[39;49m], \u001b[39mself\u001b[39;49m\u001b[39m.\u001b[39;49mtrain_target[\u001b[39m1\u001b[39;49m], \u001b[39mself\u001b[39;49m\u001b[39m.\u001b[39;49mtrain_target[\u001b[39m2\u001b[39;49m]],\n\u001b[1;32m    114\u001b[0m     batch_size\u001b[39m=\u001b[39;49m\u001b[39mself\u001b[39;49m\u001b[39m.\u001b[39;49mbatch_size,\n\u001b[1;32m    115\u001b[0m     epochs\u001b[39m=\u001b[39;49mepochs,\n\u001b[1;32m    116\u001b[0m     verbose\u001b[39m=\u001b[39;49mverbose)\n\u001b[1;32m    120\u001b[0m \u001b[39melse\u001b[39;00m:\n\u001b[1;32m    121\u001b[0m     training_history \u001b[39m=\u001b[39m \u001b[39mself\u001b[39m\u001b[39m.\u001b[39mmodel\u001b[39m.\u001b[39mmodel\u001b[39m.\u001b[39mfit(\n\u001b[1;32m    122\u001b[0m         [\u001b[39mself\u001b[39m\u001b[39m.\u001b[39mtrain_images, \u001b[39mself\u001b[39m\u001b[39m.\u001b[39mtrain_metadata[:, \u001b[39m-\u001b[39m\u001b[39m2\u001b[39m:]],\n\u001b[1;32m    123\u001b[0m         [\u001b[39mself\u001b[39m\u001b[39m.\u001b[39mtrain_target[:, \u001b[39m0\u001b[39m], \u001b[39mself\u001b[39m\u001b[39m.\u001b[39mtrain_target[:, \u001b[39m1\u001b[39m], \u001b[39mself\u001b[39m\u001b[39m.\u001b[39mtrain_target[:, \u001b[39m2\u001b[39m]],\n\u001b[0;32m   (...)\u001b[0m\n\u001b[1;32m    126\u001b[0m         validation_split\u001b[39m=\u001b[39m\u001b[39mself\u001b[39m\u001b[39m.\u001b[39mvalidation_split,\n\u001b[1;32m    127\u001b[0m         verbose\u001b[39m=\u001b[39mverbose)\n",
      "File \u001b[0;32m/opt/homebrew/Caskroom/miniforge/base/envs/env_tfp/lib/python3.9/site-packages/keras/utils/traceback_utils.py:70\u001b[0m, in \u001b[0;36mfilter_traceback.<locals>.error_handler\u001b[0;34m(*args, **kwargs)\u001b[0m\n\u001b[1;32m     67\u001b[0m     filtered_tb \u001b[39m=\u001b[39m _process_traceback_frames(e\u001b[39m.\u001b[39m__traceback__)\n\u001b[1;32m     68\u001b[0m     \u001b[39m# To get the full stack trace, call:\u001b[39;00m\n\u001b[1;32m     69\u001b[0m     \u001b[39m# `tf.debugging.disable_traceback_filtering()`\u001b[39;00m\n\u001b[0;32m---> 70\u001b[0m     \u001b[39mraise\u001b[39;00m e\u001b[39m.\u001b[39mwith_traceback(filtered_tb) \u001b[39mfrom\u001b[39;00m \u001b[39mNone\u001b[39m\n\u001b[1;32m     71\u001b[0m \u001b[39mfinally\u001b[39;00m:\n\u001b[1;32m     72\u001b[0m     \u001b[39mdel\u001b[39;00m filtered_tb\n",
      "File \u001b[0;32m/var/folders/82/fwjm77x535gfxv2dlbyp5l400000gp/T/__autograph_generated_fileip91q8jc.py:15\u001b[0m, in \u001b[0;36mouter_factory.<locals>.inner_factory.<locals>.tf__train_function\u001b[0;34m(iterator)\u001b[0m\n\u001b[1;32m     13\u001b[0m \u001b[39mtry\u001b[39;00m:\n\u001b[1;32m     14\u001b[0m     do_return \u001b[39m=\u001b[39m \u001b[39mTrue\u001b[39;00m\n\u001b[0;32m---> 15\u001b[0m     retval_ \u001b[39m=\u001b[39m ag__\u001b[39m.\u001b[39mconverted_call(ag__\u001b[39m.\u001b[39mld(step_function), (ag__\u001b[39m.\u001b[39mld(\u001b[39mself\u001b[39m), ag__\u001b[39m.\u001b[39mld(iterator)), \u001b[39mNone\u001b[39;00m, fscope)\n\u001b[1;32m     16\u001b[0m \u001b[39mexcept\u001b[39;00m:\n\u001b[1;32m     17\u001b[0m     do_return \u001b[39m=\u001b[39m \u001b[39mFalse\u001b[39;00m\n",
      "\u001b[0;31mTypeError\u001b[0m: in user code:\n\n    File \"/opt/homebrew/Caskroom/miniforge/base/envs/env_tfp/lib/python3.9/site-packages/keras/engine/training.py\", line 1160, in train_function  *\n        return step_function(self, iterator)\n    File \"/opt/homebrew/Caskroom/miniforge/base/envs/env_tfp/lib/python3.9/site-packages/keras/engine/training.py\", line 1146, in step_function  **\n        outputs = model.distribute_strategy.run(run_step, args=(data,))\n    File \"/opt/homebrew/Caskroom/miniforge/base/envs/env_tfp/lib/python3.9/site-packages/keras/engine/training.py\", line 1135, in run_step  **\n        outputs = model.train_step(data)\n    File \"/opt/homebrew/Caskroom/miniforge/base/envs/env_tfp/lib/python3.9/site-packages/keras/engine/training.py\", line 993, in train_step\n        y_pred = self(x, training=True)\n    File \"/opt/homebrew/Caskroom/miniforge/base/envs/env_tfp/lib/python3.9/site-packages/keras/utils/traceback_utils.py\", line 70, in error_handler\n        raise e.with_traceback(filtered_tb) from None\n\n    TypeError: Exception encountered when calling layer \"conv2d\" \"                 f\"(type Conv2D).\n    \n    Failed to convert elements of tf.RaggedTensor(values=tf.RaggedTensor(values=tf.RaggedTensor(values=Tensor(\"quantile_v3/Cast:0\", shape=(None,), dtype=float32), row_splits=Tensor(\"RaggedFromVariant/RaggedTensorFromVariant:2\", shape=(None,), dtype=int64)), row_splits=Tensor(\"RaggedFromVariant/RaggedTensorFromVariant:1\", shape=(None,), dtype=int64)), row_splits=Tensor(\"RaggedFromVariant/RaggedTensorFromVariant:0\", shape=(None,), dtype=int64)) to Tensor. Consider casting elements to a supported type. See https://www.tensorflow.org/api_docs/python/tf/dtypes for supported TF dtypes.\n    \n    Call arguments received by layer \"conv2d\" \"                 f\"(type Conv2D):\n      • inputs=tf.RaggedTensor(values=tf.RaggedTensor(values=tf.RaggedTensor(values=Tensor(\"quantile_v3/Cast:0\", shape=(None,), dtype=float32), row_splits=Tensor(\"RaggedFromVariant/RaggedTensorFromVariant:2\", shape=(None,), dtype=int64)), row_splits=Tensor(\"RaggedFromVariant/RaggedTensorFromVariant:1\", shape=(None,), dtype=int64)), row_splits=Tensor(\"RaggedFromVariant/RaggedTensorFromVariant:0\", shape=(None,), dtype=int64))\n"
     ]
    }
   ],
   "source": [
    "M.model_train(epochs=10,verbose=0)"
   ]
  },
  {
   "cell_type": "code",
   "execution_count": null,
   "metadata": {},
   "outputs": [],
   "source": []
  }
 ],
 "metadata": {
  "kernelspec": {
   "display_name": "Python 3.9.13 ('env_tfp')",
   "language": "python",
   "name": "python3"
  },
  "language_info": {
   "codemirror_mode": {
    "name": "ipython",
    "version": 3
   },
   "file_extension": ".py",
   "mimetype": "text/x-python",
   "name": "python",
   "nbconvert_exporter": "python",
   "pygments_lexer": "ipython3",
   "version": "3.9.13"
  },
  "orig_nbformat": 4,
  "vscode": {
   "interpreter": {
    "hash": "a152121fa935c15e0d793524af0d1bd57abdc24e1c3f82646723090be2d81b53"
   }
  }
 },
 "nbformat": 4,
 "nbformat_minor": 2
}
